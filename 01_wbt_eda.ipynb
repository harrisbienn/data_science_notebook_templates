{
 "cells": [
  {
   "cell_type": "markdown",
   "metadata": {},
   "source": [
    "# Extracting roadside ditches using Whitebox Tools and Python"
   ]
  },
  {
   "cell_type": "markdown",
   "metadata": {},
   "source": [
    "#### Conceptual Method\n",
    "1) Applies a Difference-from-Mean Elevation (DFME) filter to an input DEM.\n",
    "2) Thresholds the DFME raster to extract grid cells where DFME < -0.15.\n",
    "3) Buffers a road vector layer to create a road mask.\n",
    "4) Converts the buffered road vector to a raster matching the DEM resolution and extent.\n",
    "5) Multiplies the road buffer raster by the thresholded DFME raster to isolate ditches near roads.\n",
    "\n",
    "#### Inputs\n",
    "1) User-defined elevation raster\n",
    "\n",
    "#### Outputs\n",
    "1) dfme.tif: Difference-from-Mean Elevation raster.\n",
    "2) dfme_thresholded.tif: Raster showing areas below -0.15 DFME.\n",
    "3) roads_buffered.shp: Buffered road vector.\n",
    "4) road_mask.tif: Rasterized road buffer.\n",
    "5) final_result.tif: Output raster highlighting ditches near roads."
   ]
  },
  {
   "cell_type": "markdown",
   "metadata": {},
   "source": [
    "Imports"
   ]
  },
  {
   "cell_type": "code",
   "execution_count": null,
   "metadata": {},
   "outputs": [],
   "source": [
    "import os\n",
    "import whitebox\n",
    "import geopandas as gpd\n",
    "import rasterio\n",
    "from rasterio.mask import mask\n",
    "from rasterio.features import rasterize\n",
    "import numpy as np"
   ]
  },
  {
   "cell_type": "markdown",
   "metadata": {},
   "source": [
    "Path"
   ]
  },
  {
   "cell_type": "code",
   "execution_count": null,
   "metadata": {},
   "outputs": [],
   "source": [
    "# Initialize WhiteboxTools\n",
    "wbt = whitebox.WhiteboxTools()\n",
    "wbt.verbose = False  # Set to True for debugging\n",
    "\n",
    "# Define file paths\n",
    "dem_path = \"input_dem.tif\"\n",
    "dfme_path = \"dfme.tif\"\n",
    "thresholded_dfme_path = \"dfme_thresholded.tif\"\n",
    "road_vector_path = \"roads.shp\"\n",
    "buffered_road_vector_path = \"roads_buffered.shp\"\n",
    "road_raster_path = \"road_mask.tif\"\n",
    "final_output_path = \"final_result.tif\""
   ]
  },
  {
   "cell_type": "markdown",
   "metadata": {},
   "source": [
    "1) DFME Filtering\n",
    "\n",
    "- Uses WhiteboxTools to compute the DFME on the DEM.\n",
    "- The filter size (e.g., 11x11) can be adjusted based on the dataset."
   ]
  },
  {
   "cell_type": "code",
   "execution_count": null,
   "metadata": {},
   "outputs": [],
   "source": [
    "# Step 1: Apply Difference-from-Mean Elevation (DFME) Filter\n",
    "wbt.diff_from_mean_elev(dem_path, dfme_path, filter_size=11)  # Adjust filter size if needed"
   ]
  },
  {
   "cell_type": "markdown",
   "metadata": {},
   "source": [
    "2) Thresholding DFME\n",
    "\n",
    "- Extracts all cells where DFME < -0.15 (indicating low areas, likely ditches)."
   ]
  },
  {
   "cell_type": "code",
   "execution_count": null,
   "metadata": {},
   "outputs": [],
   "source": [
    "# Step 2: Threshold DFME Raster to Extract Low Cells\n",
    "threshold_value = -0.15  # Adjust this based on DEM units\n",
    "wbt.raster_calculator(f\"{dfme_path} < {threshold_value}\", output=thresholded_dfme_path)"
   ]
  },
  {
   "cell_type": "markdown",
   "metadata": {},
   "source": [
    "3) Buffering Road Vector\n",
    "\n",
    "- Uses GeoPandas to buffer the roads by 10 meters.\n",
    "- Adjusts for different road widths if necessary."
   ]
  },
  {
   "cell_type": "code",
   "execution_count": null,
   "metadata": {},
   "outputs": [],
   "source": [
    "# Step 3: Buffer Road Vector\n",
    "buffer_distance = 10  # Buffer distance in meters (adjust as needed)\n",
    "roads = gpd.read_file(road_vector_path)\n",
    "roads_buffered = roads.copy()\n",
    "roads_buffered[\"geometry\"] = roads.buffer(buffer_distance)\n",
    "roads_buffered.to_file(buffered_road_vector_path)"
   ]
  },
  {
   "cell_type": "markdown",
   "metadata": {},
   "source": [
    "4) Rasterizing Buffered Road Layer\n",
    "\n",
    "- Converts the buffered road vector to a raster with the same resolution and extent as the DEM.\n",
    "- Assigns 1 to roads and 0 elsewhere."
   ]
  },
  {
   "cell_type": "code",
   "execution_count": null,
   "metadata": {},
   "outputs": [],
   "source": [
    "# Step 4: Convert Buffered Road Vector to Raster\n",
    "with rasterio.open(dem_path) as dem:\n",
    "    meta = dem.meta.copy()\n",
    "    transform = dem.transform\n",
    "    width, height = dem.width, dem.height\n",
    "\n",
    "    # Rasterize buffered road layer\n",
    "    road_shapes = [(geom, 1) for geom in roads_buffered[\"geometry\"]]\n",
    "    road_raster = rasterize(\n",
    "        road_shapes, out_shape=(height, width), transform=transform, fill=0, dtype=\"uint8\"\n",
    "    )\n",
    "\n",
    "    # Save road mask raster\n",
    "    with rasterio.open(road_raster_path, \"w\", **meta) as dst:\n",
    "        dst.write(road_raster, 1)\n",
    "\n"
   ]
  },
  {
   "cell_type": "markdown",
   "metadata": {},
   "source": [
    "5) Multiplying the Road Raster by the Thresholded DFME Raster\n",
    "\n",
    "- Ensures only ditches within the buffered road area are included."
   ]
  },
  {
   "cell_type": "code",
   "execution_count": null,
   "metadata": {},
   "outputs": [],
   "source": [
    "# Step 5: Multiply Road Buffer Raster by Thresholded DFME Raster\n",
    "with rasterio.open(thresholded_dfme_path) as dfme, rasterio.open(road_raster_path) as road:\n",
    "    dfme_data = dfme.read(1)\n",
    "    road_data = road.read(1)\n",
    "\n",
    "    # Multiply both rasters\n",
    "    final_result = dfme_data * road_data\n",
    "\n",
    "    # Save the final output\n",
    "    meta.update(dtype=\"float32\")\n",
    "    with rasterio.open(final_output_path, \"w\", **meta) as dst:\n",
    "        dst.write(final_result, 1)\n",
    "\n",
    "print(\"Processing complete. Final result saved as:\", final_output_path)"
   ]
  },
  {
   "cell_type": "markdown",
   "metadata": {},
   "source": [
    "## Dynamic thresholding approaches"
   ]
  },
  {
   "cell_type": "markdown",
   "metadata": {},
   "source": [
    "\n",
    "| Method | Pros | Cons |\n",
    "| :--- | :----: | :---: |\n",
    "| *Standard Deviation Approach* | Adapts to variations in DFME values, simple to compute | May not work well for skewed distributions |\n",
    "| *Percentile-Based* | Works well for varying elevation ranges | Assumes a fixed % of pixels are ditches |\n",
    "| *Local Adaptive Thresholding* | Works well for large or complex terrains | Computationally expensive |\n",
    "| *K-Means Clustering* | Fully data-driven, no need to specify a threshold | Requires good separation in values |"
   ]
  },
  {
   "cell_type": "markdown",
   "metadata": {},
   "source": [
    "#### 1. Statistical Approach: Using Standard Deviations from the Mean\n",
    " - Instead of a fixed threshold (e.g., -0.15), you can analyze the DFME raster’s statistical distribution and set the threshold based on standard deviations.\n",
    "\n",
    "*Why Use This?*\n",
    "- It adapts to local terrain variations by defining \"low areas\" relative to the dataset.\n",
    "- Works well when ditches are not a fixed depth across the study area."
   ]
  },
  {
   "cell_type": "code",
   "execution_count": null,
   "metadata": {},
   "outputs": [],
   "source": [
    "import rasterio\n",
    "import numpy as np\n",
    "\n",
    "# Load DFME Raster\n",
    "dfme_path = \"dfme.tif\"\n",
    "\n",
    "with rasterio.open(dfme_path) as src:\n",
    "    dfme_data = src.read(1)  # Read first band\n",
    "    dfme_data[dfme_data == src.nodata] = np.nan  # Ignore NoData values\n",
    "\n",
    "# Compute mean and standard deviation of DFME\n",
    "mean_dfme = np.nanmean(dfme_data)\n",
    "std_dfme = np.nanstd(dfme_data)\n",
    "\n",
    "# Define threshold dynamically (e.g., 1.5 standard deviations below mean)\n",
    "dynamic_threshold = mean_dfme - 1.5 * std_dfme  # Adjust factor as needed\n",
    "\n",
    "print(f\"Dynamic Threshold for DFME: {dynamic_threshold}\")\n",
    "\n",
    "# Apply threshold\n",
    "thresholded_dfme = (dfme_data < dynamic_threshold).astype(\"uint8\")\n",
    "\n",
    "# Save thresholded DFME raster\n",
    "output_thresholded_dfme = \"dfme_dynamic_thresholded.tif\"\n",
    "meta = src.meta.copy()\n",
    "meta.update(dtype=\"uint8\")\n",
    "\n",
    "with rasterio.open(output_thresholded_dfme, \"w\", **meta) as dst:\n",
    "    dst.write(thresholded_dfme, 1)\n",
    "\n",
    "print(\"Saved dynamically thresholded DFME raster:\", output_thresholded_dfme)\n"
   ]
  },
  {
   "cell_type": "markdown",
   "metadata": {},
   "source": [
    "#### 2. Percentile-Based Thresholding\n",
    "- Instead of relying on absolute values or standard deviations, another method is to threshold based on percentiles. This approach ensures that you extract a consistent proportion of the lowest DFME values.\n",
    "\n",
    "*Why Use This?*\n",
    "- Works well for datasets with variable z-units or different elevation ranges.\n",
    "- Ensures a consistent fraction of the landscape is considered as ditches."
   ]
  },
  {
   "cell_type": "code",
   "execution_count": null,
   "metadata": {},
   "outputs": [],
   "source": [
    "percentile_cutoff = 5  # Extracts lowest 5% of values\n",
    "\n",
    "# Compute the threshold using percentiles\n",
    "dynamic_threshold = np.nanpercentile(dfme_data, percentile_cutoff)\n",
    "\n",
    "print(f\"Dynamic Threshold (5th percentile): {dynamic_threshold}\")\n",
    "\n",
    "# Apply threshold\n",
    "thresholded_dfme = (dfme_data < dynamic_threshold).astype(\"uint8\")\n",
    "\n",
    "# Save raster as before\n",
    "output_thresholded_dfme = \"dfme_percentile_thresholded.tif\"\n",
    "with rasterio.open(output_thresholded_dfme, \"w\", **meta) as dst:\n",
    "    dst.write(thresholded_dfme, 1)\n"
   ]
  },
  {
   "cell_type": "markdown",
   "metadata": {},
   "source": [
    "#### 3. Local Adaptive Thresholding\n",
    "- Instead of using a single threshold for the entire dataset, you can segment the DEM into smaller tiles or use a moving window to compute localized thresholds.\n",
    "\n",
    "*Why Use This?*\n",
    "- Adapts to local variations in elevation, making it ideal for large or heterogeneous study areas.\n",
    "- More computationally intensive but useful when ditches have varying depths across the region."
   ]
  },
  {
   "cell_type": "code",
   "execution_count": null,
   "metadata": {},
   "outputs": [],
   "source": [
    "from skimage.filters import threshold_local\n",
    "\n",
    "# Define block size (must be odd)\n",
    "block_size = 101  # Adjust based on DEM resolution\n",
    "\n",
    "# Compute adaptive threshold\n",
    "adaptive_threshold = threshold_local(dfme_data, block_size, method='gaussian', offset=0)\n",
    "\n",
    "# Apply threshold\n",
    "thresholded_dfme = (dfme_data < adaptive_threshold).astype(\"uint8\")\n",
    "\n",
    "# Save raster as before\n",
    "output_thresholded_dfme = \"dfme_local_thresholded.tif\"\n",
    "with rasterio.open(output_thresholded_dfme, \"w\", **meta) as dst:\n",
    "    dst.write(thresholded_dfme, 1)\n"
   ]
  },
  {
   "cell_type": "markdown",
   "metadata": {},
   "source": [
    "#### 4. Using Clustering (K-Means) to Find Thresholds\n",
    "- If the ditch pixels form a distinct cluster in the DFME histogram, you can use K-means clustering to separate low values from the rest.\n",
    "\n",
    "*Why Use This?*\n",
    "- Works well when ditch pixels naturally form a distinct class in the elevation difference histogram.\n",
    "- No need to predefine a threshold; it finds the best cutoff automatically."
   ]
  },
  {
   "cell_type": "code",
   "execution_count": null,
   "metadata": {},
   "outputs": [],
   "source": [
    "from sklearn.cluster import KMeans\n",
    "\n",
    "# Flatten and remove NaN values\n",
    "valid_pixels = dfme_data[~np.isnan(dfme_data)].reshape(-1, 1)\n",
    "\n",
    "# Perform K-Means with 3 clusters (adjust as needed)\n",
    "kmeans = KMeans(n_clusters=3, random_state=42)\n",
    "kmeans.fit(valid_pixels)\n",
    "\n",
    "# Use the lowest cluster mean as threshold\n",
    "dynamic_threshold = min(kmeans.cluster_centers_)[0]\n",
    "\n",
    "print(f\"Dynamic Threshold from Clustering: {dynamic_threshold}\")\n",
    "\n",
    "# Apply threshold\n",
    "thresholded_dfme = (dfme_data < dynamic_threshold).astype(\"uint8\")\n",
    "\n",
    "# Save raster as before\n",
    "output_thresholded_dfme = \"dfme_kmeans_thresholded.tif\"\n",
    "with rasterio.open(output_thresholded_dfme, \"w\", **meta) as dst:\n",
    "    dst.write(thresholded_dfme, 1)\n"
   ]
  }
 ],
 "metadata": {
  "kernelspec": {
   "display_name": "geo",
   "language": "python",
   "name": "python3"
  },
  "language_info": {
   "name": "python",
   "version": "3.12.6"
  }
 },
 "nbformat": 4,
 "nbformat_minor": 2
}
